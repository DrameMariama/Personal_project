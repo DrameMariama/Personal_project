{
 "cells": [
  {
   "cell_type": "markdown",
   "metadata": {},
   "source": [
    "<img src=\"https://www.analyticsvidhya.com/wp-content/themes/Curated/custom-design/images/logo.png\" width=240 height= 240 align=\"right\"/>\n",
    "\n",
    "# Text Classification using nltk, spaCy, and Scikit-learn\n",
    "\n",
    "“Text Classification” is one of the most important NLP tasks. It is the process of classifying text strings or documents into different categories, based upon the contents of the strings. Some examples of text classification are:\n",
    "\n",
    "\n",
    "### Table of Contents\n",
    "\n",
    "1. Understand the Problem Statement\n",
    "2. Read Dataset\n",
    "3. Clean and Pre-Process Text\n",
    "4. Split Data\n",
    "4. Extracting Features from Cleaned Text\n",
    "5. Model Building\n",
    "\n",
    "<br>"
   ]
  },
  {
   "cell_type": "markdown",
   "metadata": {},
   "source": [
    "### Understand the Problem Statement\n",
    "\n",
    "A movie review is a widely used means for movie critics to assess a film’s overall quality and determine\n",
    "whether or not they think the film is worth watching. In this project, our task is to classify these IMDb movie reviews into 'positive' and 'negative' reviews. "
   ]
  },
  {
   "cell_type": "markdown",
   "metadata": {},
   "source": [
    "### Read Dataset\n",
    "\n",
    "Let's import the necessary libraries."
   ]
  },
  {
   "cell_type": "code",
   "execution_count": 1,
   "metadata": {},
   "outputs": [],
   "source": [
    "import numpy as np\n",
    "import pandas as pd\n",
    "import nltk\n",
    "import spacy\n",
    "from tqdm import tqdm\n",
    "import os\n",
    "import re\n",
    "import seaborn as sns\n",
    "import matplotlib.pyplot as plt\n",
    "\n",
    "%matplotlib inline"
   ]
  },
  {
   "cell_type": "markdown",
   "metadata": {},
   "source": [
    "There are two folders named \"positive\" and \"negative\" containing text files of positive and negative movie reviews, respectively. We will have to first read and load the contents of these text files (reviews) to move ahead with our analysis."
   ]
  },
  {
   "cell_type": "code",
   "execution_count": 2,
   "metadata": {},
   "outputs": [],
   "source": [
    "# load file names\n",
    "pos_files = os.listdir(\"positve/\")\n",
    "neg_files = os.listdir(\"negative/\")"
   ]
  },
  {
   "cell_type": "code",
   "execution_count": 3,
   "metadata": {},
   "outputs": [
    {
     "name": "stdout",
     "output_type": "stream",
     "text": [
      "['2768_8.txt', '43_10.txt', '2956_8.txt', '6408_10.txt', '1223_7.txt', '7041_7.txt', '6380_9.txt', '3787_10.txt', '11005_10.txt', '10085_10.txt']\n"
     ]
    }
   ],
   "source": [
    "print(pos_files[:10])"
   ]
  },
  {
   "cell_type": "code",
   "execution_count": 4,
   "metadata": {},
   "outputs": [
    {
     "name": "stdout",
     "output_type": "stream",
     "text": [
      "['619_1.txt', '3185_3.txt', '1731_3.txt', '2607_1.txt', '11458_3.txt', '10104_1.txt', '1123_1.txt', '10521_1.txt', '10815_2.txt', '561_1.txt']\n"
     ]
    }
   ],
   "source": [
    "print(neg_files[:10])"
   ]
  },
  {
   "cell_type": "markdown",
   "metadata": {},
   "source": [
    "...................................................................................................................\n",
    "\n",
    "Let's see how many negative and postive reviews are there."
   ]
  },
  {
   "cell_type": "code",
   "execution_count": 5,
   "metadata": {},
   "outputs": [
    {
     "data": {
      "text/plain": [
       "(10000, 8000)"
      ]
     },
     "execution_count": 5,
     "metadata": {},
     "output_type": "execute_result"
    }
   ],
   "source": [
    "len(pos_files), len(neg_files)"
   ]
  },
  {
   "cell_type": "markdown",
   "metadata": {},
   "source": [
    "So, there are 10,000 positive reviews and 8,000 negative reviews. Till now we have just gathered the names of files that we have to read. To read them, let's define a function."
   ]
  },
  {
   "cell_type": "code",
   "execution_count": 6,
   "metadata": {},
   "outputs": [],
   "source": [
    "# function to read text files\n",
    "def read_review(filename):\n",
    "    # open the file as read only\n",
    "    file = open(filename, mode='rt', encoding='utf-8')\n",
    "    # read all text\n",
    "    text = file.read()\n",
    "    # close the file\n",
    "    file.close()\n",
    "    return text"
   ]
  },
  {
   "cell_type": "code",
   "execution_count": 7,
   "metadata": {},
   "outputs": [],
   "source": [
    "# read and store positive reviews in a list\n",
    "pos = []\n",
    "\n",
    "for i in pos_files:\n",
    "    pos.append(read_review(\"positve/\"+i))\n",
    "    \n",
    "# read and store negative reviews in a list\n",
    "neg = []\n",
    "\n",
    "for i in neg_files:\n",
    "    neg.append(read_review(\"negative/\"+i))"
   ]
  },
  {
   "cell_type": "markdown",
   "metadata": {},
   "source": [
    "We will now put both positive and negative reviews in a dataframe. We will also assign 1 to the positive reviews and 0 to the negative reviews."
   ]
  },
  {
   "cell_type": "code",
   "execution_count": 8,
   "metadata": {},
   "outputs": [
    {
     "name": "stderr",
     "output_type": "stream",
     "text": [
      "/usr/local/lib/python3.5/dist-packages/ipykernel_launcher.py:5: SettingWithCopyWarning: \n",
      "A value is trying to be set on a copy of a slice from a DataFrame\n",
      "\n",
      "See the caveats in the documentation: http://pandas.pydata.org/pandas-docs/stable/indexing.html#indexing-view-versus-copy\n",
      "  \"\"\"\n"
     ]
    }
   ],
   "source": [
    "df = pd.DataFrame({'review':(pos+neg)})\n",
    "\n",
    "# '1' for positive reviews and '0' for negative reviews\n",
    "df['class'] = 0\n",
    "df['class'][:10000] = 1"
   ]
  },
  {
   "cell_type": "code",
   "execution_count": 9,
   "metadata": {},
   "outputs": [
    {
     "data": {
      "text/plain": [
       "1    10000\n",
       "0     8000\n",
       "Name: class, dtype: int64"
      ]
     },
     "execution_count": 9,
     "metadata": {},
     "output_type": "execute_result"
    }
   ],
   "source": [
    "# check class distribution\n",
    "df['class'].value_counts()"
   ]
  },
  {
   "cell_type": "markdown",
   "metadata": {},
   "source": [
    "<br>\n",
    "\n",
    "### Clean and Pre-Process Text"
   ]
  },
  {
   "cell_type": "markdown",
   "metadata": {},
   "source": [
    "Cleaning and pre-processing of raw text data is an important step in an NLP task. We try to remove as much noise as possible from the data. Punctuation marks, special characters(#@&<!), and words like 'the', 'a', 'of', 'oh' are of not much use in tasks like text classification, and that is why they are considered as noise. So, before getting started, let's print out a random review.  "
   ]
  },
  {
   "cell_type": "code",
   "execution_count": 10,
   "metadata": {},
   "outputs": [
    {
     "data": {
      "text/plain": [
       "'about a year and a half ago my dad told me about The French Doors. i thought it sounded interesting enough but i didn\\'t try to find it anywhere. Then about a year ago i remembered that film and thought \"hey why not\" and tried finding it on the internet. eventually after about a week of looking i found it on atom films. i called my dad over to the computer and said to him\" hey dad I\\'ve found that creepy film you told me about ages ago!\" He smiled at me, turned round turned off the lights so it was pitch black apart from the computer screen and told me to watch it. I started off fine...Then when he started getting worried about whatever was there i found it very unnerving. at the end i pushed back my chair and stood up...it made me jump!:P if you haven\\'t seen this film i highly recommend you do because it is well worth it. even after the fourth or fifth time its still unsettling.<br /><br />GREAT FILM!'"
      ]
     },
     "execution_count": 10,
     "metadata": {},
     "output_type": "execute_result"
    }
   ],
   "source": [
    "df['review'][4]"
   ]
  },
  {
   "cell_type": "markdown",
   "metadata": {},
   "source": [
    "...................................................................................................................\n",
    "\n",
    "As you can see, we have lots of punctuation marks and html tags. To get rid of them from the text we will take help of regular expressions. "
   ]
  },
  {
   "cell_type": "code",
   "execution_count": 11,
   "metadata": {},
   "outputs": [],
   "source": [
    "replace_1 = re.compile(\"(\\.)|(\\;)|(\\:)|(\\!)|(\\')|(\\?)|(\\,)|(\\\")|(\\()|(\\))|(\\[)|(\\])\")\n",
    "replace_2 = re.compile(\"(<br\\s*/><br\\s*/>)|(\\-)|(\\/)\")\n",
    "\n",
    "# function to clean text data\n",
    "def clean_reviews(reviews):\n",
    "    reviews = [replace_1.sub(\"\", line.lower()) for line in reviews]\n",
    "    reviews = [replace_2.sub(\" \", line) for line in reviews]\n",
    "    return reviews"
   ]
  },
  {
   "cell_type": "code",
   "execution_count": 12,
   "metadata": {},
   "outputs": [],
   "source": [
    "df['review'] = clean_reviews(df['review'])"
   ]
  },
  {
   "cell_type": "markdown",
   "metadata": {},
   "source": [
    "Let's pull out the same review after the cleaning operation."
   ]
  },
  {
   "cell_type": "code",
   "execution_count": 13,
   "metadata": {},
   "outputs": [
    {
     "data": {
      "text/plain": [
       "'about a year and a half ago my dad told me about the french doors i thought it sounded interesting enough but i didnt try to find it anywhere then about a year ago i remembered that film and thought hey why not and tried finding it on the internet eventually after about a week of looking i found it on atom films i called my dad over to the computer and said to him hey dad ive found that creepy film you told me about ages ago he smiled at me turned round turned off the lights so it was pitch black apart from the computer screen and told me to watch it i started off finethen when he started getting worried about whatever was there i found it very unnerving at the end i pushed back my chair and stood upit made me jumpp if you havent seen this film i highly recommend you do because it is well worth it even after the fourth or fifth time its still unsettling great film'"
      ]
     },
     "execution_count": 13,
     "metadata": {},
     "output_type": "execute_result"
    }
   ],
   "source": [
    "df['review'][4]"
   ]
  },
  {
   "cell_type": "markdown",
   "metadata": {},
   "source": [
    "...................................................................................................................\n",
    "\n",
    "It seems pretty neat and free from unwanted elements. Now let's see which are the top most frequent words in the data."
   ]
  },
  {
   "cell_type": "code",
   "execution_count": 14,
   "metadata": {},
   "outputs": [],
   "source": [
    "from nltk import FreqDist"
   ]
  },
  {
   "cell_type": "code",
   "execution_count": 15,
   "metadata": {},
   "outputs": [],
   "source": [
    "# function to plot top n most frequent words\n",
    "def freq_words(x, terms = 30):\n",
    "    all_words = ' '.join([text for text in x])\n",
    "    all_words = all_words.split()\n",
    "\n",
    "    fdist = FreqDist(all_words)\n",
    "    words_df = pd.DataFrame({'word':list(fdist.keys()), 'count':list(fdist.values())})\n",
    "\n",
    "      # selecting top n most frequent words\n",
    "    d = words_df.nlargest(columns=\"count\", n = terms) \n",
    "    plt.figure(figsize=(20,5))\n",
    "    ax = sns.barplot(data=d, x= \"word\", y = \"count\")\n",
    "    ax.set(ylabel = 'Count')\n",
    "    plt.show()"
   ]
  },
  {
   "cell_type": "code",
   "execution_count": 16,
   "metadata": {},
   "outputs": [
    {
     "data": {
      "image/png": "[encoded data removed]",
      "text/plain": [
       "<Figure size 1440x360 with 1 Axes>"
      ]
     },
     "metadata": {
      "needs_background": "light"
     },
     "output_type": "display_data"
    }
   ],
   "source": [
    "freq_words(df['review'])"
   ]
  },
  {
   "cell_type": "markdown",
   "metadata": {},
   "source": [
    "As it turns out, terms like 'and', 'a', 'is', that' etc. are the most common terms in our data. Most of them are also known as stopwords in the NLP community, and they would be of little help in identifying a review as positive or negative. Hence, we will get rid of them as well. \n",
    "\n",
    "We will use __spaCy library__ here to remove the stopwords.\n",
    "```python -m spacy download en_core_web_sm```"
   ]
  },
  {
   "cell_type": "code",
   "execution_count": 17,
   "metadata": {},
   "outputs": [],
   "source": [
    "nlp = spacy.load('en_core_web_sm')"
   ]
  },
  {
   "cell_type": "markdown",
   "metadata": {},
   "source": [
    "However, there are a few stopwords which should not be removed as their absence might change the meaning of an entire sentence. So, we won't remove the words 'however', 'no', 'not', and 'but'. We will take them off from spaCy's stopwords vocabulary in the following code block."
   ]
  },
  {
   "cell_type": "code",
   "execution_count": 18,
   "metadata": {},
   "outputs": [],
   "source": [
    "nlp.vocab['however'].is_stop = False\n",
    "nlp.vocab['no'].is_stop = False\n",
    "nlp.vocab['not'].is_stop = False\n",
    "nlp.vocab['but'].is_stop = False"
   ]
  },
  {
   "cell_type": "markdown",
   "metadata": {},
   "source": [
    "__Tokenization__\n",
    "\n",
    "To remove the stopwords, we will have to first tokenize our reviews. Tokenization means splitting a piece of text into its constituent words. For example, the sentence below will be split into a list of tokens/words after tokenization.\n",
    "\n",
    "__\"The cutting edge of the plot is compromised\" --> ['The', 'cutting', 'edge', 'of', 'the', 'plot', 'is', 'compromised']__\n",
    "\n",
    "We will again use spaCy for tokenizaion. First, the raw text is split on whitespace characters, similar to text.split(' '). Then, the tokenizer processes the text from left to right. On each substring, it performs two checks:\n"
   ]
  },
  {
   "cell_type": "code",
   "execution_count": 75,
   "metadata": {},
   "outputs": [],
   "source": [
    "# tokenization using spaCy\n",
    "def tokenization(x):\n",
    "    reviews_tokens = []\n",
    "    for i in tqdm(x):\n",
    "        i = nlp(i)\n",
    "        temp = []\n",
    "        for j in i:\n",
    "            temp.append(j.text)\n",
    "        reviews_tokens.append(temp)\n",
    "    \n",
    "    return reviews_tokens"
   ]
  },
  {
   "cell_type": "code",
   "execution_count": 76,
   "metadata": {},
   "outputs": [
    {
     "name": "stderr",
     "output_type": "stream",
     "text": [
      "100%|██████████| 18000/18000 [18:12<00:00, 16.47it/s]\n"
     ]
    }
   ],
   "source": [
    "df['tokenized_review'] = tokenization(df['review'])"
   ]
  },
  {
   "cell_type": "code",
   "execution_count": 77,
   "metadata": {},
   "outputs": [],
   "source": [
    "# function to remove stopwords\n",
    "def strip_stopwords(reviews):\n",
    "    s = []\n",
    "    for r in tqdm(reviews):\n",
    "        s_2 = []\n",
    "        for token in r:\n",
    "            if nlp.vocab[token].is_stop == True:\n",
    "                continue\n",
    "            else:\n",
    "                s_2.append(token)\n",
    "        s.append(\" \".join(s_2))    \n",
    "        \n",
    "    return s"
   ]
  },
  {
   "cell_type": "markdown",
   "metadata": {},
   "source": [
    "Let's remove the stopwords."
   ]
  },
  {
   "cell_type": "code",
   "execution_count": 78,
   "metadata": {},
   "outputs": [
    {
     "name": "stderr",
     "output_type": "stream",
     "text": [
      "100%|██████████| 18000/18000 [00:03<00:00, 5071.48it/s]\n"
     ]
    }
   ],
   "source": [
    "df['review_cleaned'] = strip_stopwords(df['tokenized_review'])"
   ]
  },
  {
   "cell_type": "markdown",
   "metadata": {},
   "source": [
    "We will again check the most common terms in the cleaned review text after eliminating the stopwords."
   ]
  },
  {
   "cell_type": "code",
   "execution_count": 79,
   "metadata": {},
   "outputs": [
    {
     "data": {
      "image/png": "[encoded data removed]",
      "text/plain": [
       "<Figure size 1440x360 with 1 Axes>"
      ]
     },
     "metadata": {
      "needs_background": "light"
     },
     "output_type": "display_data"
    }
   ],
   "source": [
    "freq_words(df['review_cleaned'])"
   ]
  },
  {
   "cell_type": "markdown",
   "metadata": {},
   "source": [
    "Now we can see more relevant terms have come up. Words such as 'movie', 'film', 'story', 'character' as most frequently appearing words make sense. However, we can further clean up the data. Let's get rid of single character terms. "
   ]
  },
  {
   "cell_type": "code",
   "execution_count": 80,
   "metadata": {},
   "outputs": [],
   "source": [
    "# remove 1 character terms (length == 1)\n",
    "df['review_cleaned'] = df['review_cleaned'].apply(lambda x: ' '.join([w for w in x.split() if len(w)>1]))"
   ]
  },
  {
   "cell_type": "markdown",
   "metadata": {},
   "source": [
    "One more glance at the top 30 most common words."
   ]
  },
  {
   "cell_type": "code",
   "execution_count": 81,
   "metadata": {},
   "outputs": [
    {
     "data": {
      "image/png": "[encoded data removed]",
      "text/plain": [
       "<Figure size 1440x360 with 1 Axes>"
      ]
     },
     "metadata": {
      "needs_background": "light"
     },
     "output_type": "display_data"
    }
   ],
   "source": [
    "freq_words(df['review_cleaned'])"
   ]
  },
  {
   "cell_type": "markdown",
   "metadata": {},
   "source": [
    "### Stemming"
   ]
  },
  {
   "cell_type": "code",
   "execution_count": 50,
   "metadata": {},
   "outputs": [],
   "source": [
    "def stemming_text(text):\n",
    "    from nltk.stem.porter import PorterStemmer\n",
    "    stemmer = PorterStemmer()\n",
    "    return [''.join(stemmer.stem(word) for word in review.split()) for review in text]\n",
    "df['review_cleaned'] = stemming_text(df['review_cleaned'])"
   ]
  },
  {
   "cell_type": "markdown",
   "metadata": {},
   "source": [
    "### Lemmatization:"
   ]
  },
  {
   "cell_type": "code",
   "execution_count": 60,
   "metadata": {},
   "outputs": [],
   "source": [
    "from nltk.stem import WordNetLemmatizer\n",
    "def lemmatization_text(text):\n",
    "    lemmatizer = WordNetLemmatizer()\n",
    "    return [''.join(lemmatizer.lemmatize(word) for word in review.split()) for review in text]\n",
    "df['review_cleaned'] = lemmatization_text(df['review_cleaned'])"
   ]
  },
  {
   "cell_type": "markdown",
   "metadata": {},
   "source": [
    "<br>\n",
    "\n",
    "### Split Data\n",
    "\n",
    "After cleaning and pre-processing of the reviews, we can now split our data into 3 sets — train, validation, and test — in the ratio of 70%, 15% and 15%, respectively. We will use the train set for traing our model, and validation and test sets to make predictions and evaluate our model."
   ]
  },
  {
   "cell_type": "code",
   "execution_count": 82,
   "metadata": {},
   "outputs": [],
   "source": [
    "from sklearn.model_selection import train_test_split"
   ]
  },
  {
   "cell_type": "code",
   "execution_count": 83,
   "metadata": {},
   "outputs": [],
   "source": [
    "# splitting data into train, test, and validation set\n",
    "train, temp = train_test_split(df, stratify = df['class'], test_size=0.3, random_state=42)\n",
    "\n",
    "test, val = train_test_split(temp, stratify = temp['class'], test_size=0.5, random_state=42)"
   ]
  },
  {
   "cell_type": "code",
   "execution_count": 84,
   "metadata": {},
   "outputs": [
    {
     "data": {
      "text/plain": [
       "((12600, 4), (2700, 4), (2700, 4))"
      ]
     },
     "execution_count": 84,
     "metadata": {},
     "output_type": "execute_result"
    }
   ],
   "source": [
    "train.shape, val.shape, test.shape"
   ]
  },
  {
   "cell_type": "markdown",
   "metadata": {},
   "source": [
    "<br>\n",
    "\n",
    "### Extracting Features from Cleaned Text\n",
    "\n",
    "Since we will building a classification model, we can't directly feed text data to our model. We will have to extract numerical features from the cleaned text to build our model. We will create two sets of features — \n",
    "1. Bag-of-Words features\n",
    "2. TF-IDF features"
   ]
  },
  {
   "cell_type": "code",
   "execution_count": 85,
   "metadata": {},
   "outputs": [],
   "source": [
    "from sklearn.feature_extraction.text import CountVectorizer, TfidfVectorizer"
   ]
  },
  {
   "cell_type": "code",
   "execution_count": 86,
   "metadata": {},
   "outputs": [],
   "source": [
    "# build bag-of-words features for train data\n",
    "bow = CountVectorizer(binary=False, min_df=5, max_df=1.0, ngram_range=(1,2))\n",
    "bow_train = bow.fit_transform(train['review_cleaned'])\n",
    "\n",
    "# build TF-IDF features for train data\n",
    "tfidf = TfidfVectorizer(use_idf=True, min_df=5, max_df=1.0, ngram_range=(1,2),\n",
    "                        sublinear_tf=True)\n",
    "tfidf_train = tfidf.fit_transform(train['review_cleaned'])"
   ]
  },
  {
   "cell_type": "code",
   "execution_count": 87,
   "metadata": {},
   "outputs": [],
   "source": [
    "# create features for validation and test set\n",
    "bow_val = bow.transform(val['review_cleaned'])\n",
    "tfidf_val = tfidf.transform(val['review_cleaned'])\n",
    "\n",
    "bow_test = bow.transform(test['review_cleaned'])\n",
    "tfidf_test = tfidf.transform(test['review_cleaned'])"
   ]
  },
  {
   "cell_type": "code",
   "execution_count": 88,
   "metadata": {},
   "outputs": [
    {
     "name": "stdout",
     "output_type": "stream",
     "text": [
      "BOW model:> Train features shape: (12600, 41994)  Validation features shape: (2700, 41994)  Test features shape: (2700, 41994)\n",
      "TFIDF model:> Train features shape: (12600, 41994)  Validation features shape: (2700, 41994)  Test features shape: (2700, 41994)\n"
     ]
    }
   ],
   "source": [
    "print('BOW model:> Train features shape:', bow_train.shape, ' Validation features shape:', bow_val.shape, \n",
    "      ' Test features shape:', bow_test.shape)\n",
    "\n",
    "print('TFIDF model:> Train features shape:', tfidf_train.shape, ' Validation features shape:', tfidf_val.shape,\n",
    "      ' Test features shape:', tfidf_test.shape)"
   ]
  },
  {
   "cell_type": "markdown",
   "metadata": {},
   "source": [
    "<br>\n",
    "\n",
    "### Model Building\n",
    "\n",
    "1) __Logistic Regression__ Model using bag-of-words features"
   ]
  },
  {
   "cell_type": "code",
   "execution_count": 89,
   "metadata": {},
   "outputs": [],
   "source": [
    "# Logistic Regression model\n",
    "from sklearn.linear_model import LogisticRegression\n",
    "from sklearn.metrics import accuracy_score"
   ]
  },
  {
   "cell_type": "code",
   "execution_count": 90,
   "metadata": {},
   "outputs": [
    {
     "name": "stderr",
     "output_type": "stream",
     "text": [
      "/home/mariama/.local/lib/python3.5/site-packages/sklearn/linear_model/logistic.py:433: FutureWarning: Default solver will be changed to 'lbfgs' in 0.22. Specify a solver to silence this warning.\n",
      "  FutureWarning)\n"
     ]
    },
    {
     "name": "stdout",
     "output_type": "stream",
     "text": [
      "C = 0.01\n",
      "Validation accuracy score:  0.87\n",
      "Test accuracy score:  0.8625925925925926\n",
      "================================================================================\n",
      "C = 0.02\n",
      "Validation accuracy score:  0.8755555555555555\n",
      "Test accuracy score:  0.8696296296296296\n",
      "================================================================================\n",
      "C = 0.25\n",
      "Validation accuracy score:  0.8811111111111111\n",
      "Test accuracy score:  0.8814814814814815\n",
      "================================================================================\n",
      "C = 0.5\n",
      "Validation accuracy score:  0.8774074074074074\n",
      "Test accuracy score:  0.8814814814814815\n",
      "================================================================================\n",
      "C = 1\n",
      "Validation accuracy score:  0.8770370370370371\n",
      "Test accuracy score:  0.8792592592592593\n",
      "================================================================================\n"
     ]
    }
   ],
   "source": [
    "##tuning C hyperparameters for logistic regression\n",
    "for c in [0.01, 0.02, 0.25, 0.5, 1]:\n",
    "    lr = LogisticRegression(C = c)\n",
    "\n",
    "    # train model on bag-of-words features\n",
    "    lr.fit(bow_train, train['class'])\n",
    "    print(\"C = \"+str(c))\n",
    "    print(\"Validation accuracy score: \", accuracy_score(val['class'], lr.predict(bow_val)))\n",
    "    print(\"Test accuracy score: \", accuracy_score(test['class'], lr.predict(bow_test)))\n",
    "    print(\"==\"*40)"
   ]
  },
  {
   "cell_type": "code",
   "execution_count": 91,
   "metadata": {},
   "outputs": [],
   "source": [
    "lr = LogisticRegression(C = 0.5)\n",
    "\n",
    "# train model on bag-of-words features\n",
    "lr.fit(bow_train, train['class'])\n",
    "\n",
    "#make predictions on validation set\n",
    "bow_val_preds = lr.predict(bow_val)\n",
    "\n",
    "#make predictions on test set\n",
    "bow_test_preds = lr.predict(bow_test)"
   ]
  },
  {
   "cell_type": "code",
   "execution_count": 92,
   "metadata": {},
   "outputs": [
    {
     "name": "stdout",
     "output_type": "stream",
     "text": [
      "Validation accuracy score:  0.8774074074074074\n",
      "Test accuracy score:  0.8814814814814815\n"
     ]
    }
   ],
   "source": [
    "# model evaluaton\n",
    "print(\"Validation accuracy score: \", accuracy_score(val['class'], bow_val_preds))\n",
    "print(\"Test accuracy score: \", accuracy_score(test['class'], bow_test_preds))"
   ]
  },
  {
   "cell_type": "markdown",
   "metadata": {},
   "source": [
    "2) __Logistic Regression__ Model using TF-IDF features"
   ]
  },
  {
   "cell_type": "code",
   "execution_count": 93,
   "metadata": {},
   "outputs": [
    {
     "name": "stdout",
     "output_type": "stream",
     "text": [
      "C = 0.01\n",
      "Validation accuracy score:  0.5574074074074075\n",
      "Test accuracy score:  0.5581481481481482\n",
      "================================================================================\n",
      "C = 0.02\n",
      "Validation accuracy score:  0.6203703703703703\n",
      "Test accuracy score:  0.6259259259259259\n",
      "================================================================================\n",
      "C = 0.25\n",
      "Validation accuracy score:  0.8507407407407407\n",
      "Test accuracy score:  0.85\n",
      "================================================================================\n",
      "C = 0.5\n",
      "Validation accuracy score:  0.8648148148148148\n",
      "Test accuracy score:  0.8625925925925926\n",
      "================================================================================\n",
      "C = 1\n",
      "Validation accuracy score:  0.8740740740740741\n",
      "Test accuracy score:  0.8711111111111111\n",
      "================================================================================\n"
     ]
    }
   ],
   "source": [
    "##tuning C hyperparameters for logistic regression\n",
    "for c in [0.01, 0.02, 0.25, 0.5, 1]:\n",
    "    lr = LogisticRegression(C = c)\n",
    "    # train model on bag-of-words features\n",
    "    lr.fit(tfidf_train, train['class'])\n",
    "    print(\"C = \"+str(c))\n",
    "    print(\"Validation accuracy score: \", accuracy_score(val['class'], lr.predict(tfidf_val)))\n",
    "    print(\"Test accuracy score: \", accuracy_score(test['class'], lr.predict(tfidf_test)))\n",
    "    print(\"==\"*40)"
   ]
  },
  {
   "cell_type": "code",
   "execution_count": 94,
   "metadata": {},
   "outputs": [],
   "source": [
    "lr = LogisticRegression(C = 1.0)\n",
    "# train model on bag-of-words features\n",
    "lr.fit(tfidf_train, train['class'])\n",
    "#make predictions on validation set\n",
    "tfidf_val_preds = lr.predict(tfidf_val)\n",
    "\n",
    "#make predictions on test set\n",
    "tfidf_test_preds = lr.predict(tfidf_test)"
   ]
  },
  {
   "cell_type": "code",
   "execution_count": 95,
   "metadata": {},
   "outputs": [
    {
     "name": "stdout",
     "output_type": "stream",
     "text": [
      "Validation accuracy score:  0.8740740740740741\n",
      "Test accuracy score:  0.8711111111111111\n"
     ]
    }
   ],
   "source": [
    "# model evaluaton\n",
    "print(\"Validation accuracy score: \", accuracy_score(val['class'], tfidf_val_preds))\n",
    "print(\"Test accuracy score: \", accuracy_score(test['class'], tfidf_test_preds))"
   ]
  },
  {
   "cell_type": "code",
   "execution_count": null,
   "metadata": {},
   "outputs": [],
   "source": []
  }
 ],
 "metadata": {
  "kernelspec": {
   "display_name": "Python 3",
   "language": "python",
   "name": "python3"
  },
  "language_info": {
   "codemirror_mode": {
    "name": "ipython",
    "version": 3
   },
   "file_extension": ".py",
   "mimetype": "text/x-python",
   "name": "python",
   "nbconvert_exporter": "python",
   "pygments_lexer": "ipython3",
   "version": "3.5.3"
  }
 },
 "nbformat": 4,
 "nbformat_minor": 2
}
